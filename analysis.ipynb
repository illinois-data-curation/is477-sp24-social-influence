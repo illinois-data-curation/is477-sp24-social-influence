{
 "cells": [
  {
   "cell_type": "code",
   "execution_count": null,
   "metadata": {},
   "outputs": [],
   "source": [
    "import pandas as pd\n",
    "import matplotlib.pyplot as plt\n",
    "from textblob import TextBlob\n",
    "import numpy as np"
   ]
  },
  {
   "cell_type": "code",
   "execution_count": null,
   "metadata": {},
   "outputs": [],
   "source": [
    "disney = pd.read_csv(\"Disney_Stocks_NASDAQ.csv\",delimiter=',')\n",
    "disney[disney.columns[1:]] = disney[disney.columns[1:]].replace('[\\$,]', '', regex=True).astype(float)\n",
    "disney"
   ]
  },
  {
   "cell_type": "code",
   "execution_count": null,
   "metadata": {},
   "outputs": [],
   "source": [
    "disney['date'] = pd.to_datetime(disney['Date']).dt.date\n",
    "disney = disney.drop(\"Date\", axis = 1)\n",
    "disney"
   ]
  },
  {
   "cell_type": "code",
   "execution_count": null,
   "metadata": {},
   "outputs": [],
   "source": [
    "rc = pd.read_csv(\"comments.csv\")\n",
    "rc['Date'] = pd.to_datetime(rc['date']).dt.date\n",
    "rc['Time'] = pd.to_datetime(rc['date']).dt.time\n",
    "rc = rc.drop([\"date\",\"Time\"], axis='columns')\n",
    "rc"
   ]
  },
  {
   "cell_type": "code",
   "execution_count": null,
   "metadata": {},
   "outputs": [],
   "source": [
    "rp = pd.read_csv(\"posts.csv\")\n",
    "rp['Date'] = pd.to_datetime(rp['date']).dt.date\n",
    "rp['Time'] = pd.to_datetime(rp['date']).dt.time\n",
    "rp = rp.drop([\"date\",\"Time\"], axis='columns')\n",
    "rp"
   ]
  },
  {
   "cell_type": "code",
   "execution_count": null,
   "metadata": {},
   "outputs": [],
   "source": [
    "reddit = rp.merge(rc,on = \"post_id\")\n",
    "reddit = reddit.drop(\"Date_y\", axis = 1)\n",
    "reddit"
   ]
  },
  {
   "cell_type": "code",
   "execution_count": null,
   "metadata": {},
   "outputs": [],
   "source": [
    "plt.plot(\"date\", \"Low\", data = disney)\n",
    "plt.show()"
   ]
  },
  {
   "cell_type": "code",
   "execution_count": null,
   "metadata": {},
   "outputs": [],
   "source": [
    "plt.plot(\"date\", \"High\", data = disney)\n",
    "plt.show()"
   ]
  },
  {
   "cell_type": "code",
   "execution_count": null,
   "metadata": {},
   "outputs": [],
   "source": [
    "reddit.groupby(\"post_id\").agg(\"count\").reset_index()"
   ]
  },
  {
   "cell_type": "code",
   "execution_count": null,
   "metadata": {},
   "outputs": [],
   "source": [
    "rp.groupby(\"post_id\").agg(\"count\").reset_index()"
   ]
  },
  {
   "cell_type": "code",
   "execution_count": null,
   "metadata": {},
   "outputs": [],
   "source": [
    "rc_list = []\n",
    "for i in range(200):\n",
    "    p_1 = TextBlob(rc[\"body\"][i]).sentiment.polarity\n",
    "    rc_list.append(p_1)"
   ]
  },
  {
   "cell_type": "code",
   "execution_count": null,
   "metadata": {},
   "outputs": [],
   "source": [
    "rp_list = []\n",
    "for i in range(12):\n",
    "    p_1 = TextBlob(rp[\"title\"][i]).sentiment.polarity\n",
    "    rp_list.append(p_1)"
   ]
  },
  {
   "cell_type": "code",
   "execution_count": null,
   "metadata": {},
   "outputs": [],
   "source": [
    "rc_dict = {\"comments\":rc[\"comment_id\"], \"sentiment\": rc_list, \"date\":rc['Date']}\n",
    "df = pd.DataFrame.from_dict(rc_dict)\n",
    "df['sentiment'].mean()"
   ]
  },
  {
   "cell_type": "code",
   "execution_count": null,
   "metadata": {},
   "outputs": [],
   "source": [
    "rp_dict = {\"comments\":rp[\"post_id\"], \"sentiment\": rp_list,\"date\":rp['Date']}\n",
    "df1 = pd.DataFrame.from_dict(rp_dict)\n",
    "df1['sentiment'].mean()"
   ]
  },
  {
   "cell_type": "code",
   "execution_count": null,
   "metadata": {},
   "outputs": [],
   "source": [
    "ndf = df.merge(disney, on = \"date\")\n",
    "ndf"
   ]
  },
  {
   "cell_type": "code",
   "execution_count": null,
   "metadata": {},
   "outputs": [],
   "source": [
    "np.corrcoef(ndf[\"sentiment\"], ndf[\"Close/Last\"])"
   ]
  },
  {
   "cell_type": "code",
   "execution_count": null,
   "metadata": {},
   "outputs": [],
   "source": [
    "plt.scatter(ndf[\"sentiment\"],ndf[\"Close/Last\"], color = \"r\", marker = \"o\", s = 30)"
   ]
  },
  {
   "cell_type": "code",
   "execution_count": null,
   "metadata": {},
   "outputs": [],
   "source": [
    "ndf1 = df1.merge(disney, on = \"date\")\n",
    "ndf"
   ]
  }
 ],
 "metadata": {
  "language_info": {
   "name": "python"
  }
 },
 "nbformat": 4,
 "nbformat_minor": 2
}
